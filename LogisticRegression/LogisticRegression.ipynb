{
 "cells": [
  {
   "cell_type": "markdown",
   "id": "d4a2ba12",
   "metadata": {},
   "source": [
    "# Logistic Regression \n",
    "\n",
    "- Logistic regression is a type of calssification algorithm in ML that helps us classify whether or not a certain input falls under a class. It's mainly used for binary classifiaction (0/1).\n",
    "Logistic regression uses `Sigmoid` function, which is also called logistic function. The function can be defined as so:\n",
    "$$\n",
    "\\sigma (x) = \\frac{1}{1+e^{-x}}\n",
    "$$\n",
    "\n",
    "where,\n",
    "x is the input to the function and e is the base of natural log. (approx. 2.718)\n",
    "\n",
    "The sigmoid function is smooth and differential. It is also suitable in various optimization algorithms. In Log. regression, it is applied to linear combinations of input deatures and weights, which produces a value that can be interpreted as a probability of belonging to a particular class."
   ]
  },
  {
   "cell_type": "markdown",
   "id": "c4bdc16f",
   "metadata": {},
   "source": []
  }
 ],
 "metadata": {
  "language_info": {
   "name": "python"
  }
 },
 "nbformat": 4,
 "nbformat_minor": 5
}
