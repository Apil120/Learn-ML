{
 "cells": [
  {
   "cell_type": "markdown",
   "id": "d4a2ba12",
   "metadata": {},
   "source": [
    "# Logistic Regression \n",
    "\n",
    "- Logistic regression is a type of calssification algorithm in ML that helps us classify whether or not a certain input falls under a class. It's mainly used for binary classifiaction (0/1)"
   ]
  },
  {
   "cell_type": "markdown",
   "id": "c4bdc16f",
   "metadata": {},
   "source": []
  }
 ],
 "metadata": {
  "language_info": {
   "name": "python"
  }
 },
 "nbformat": 4,
 "nbformat_minor": 5
}
